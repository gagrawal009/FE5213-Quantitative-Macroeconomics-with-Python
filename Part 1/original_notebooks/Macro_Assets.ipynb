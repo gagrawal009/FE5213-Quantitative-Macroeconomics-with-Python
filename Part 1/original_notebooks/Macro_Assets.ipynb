{
  "nbformat": 4,
  "nbformat_minor": 0,
  "metadata": {
    "colab": {
      "provenance": []
    },
    "kernelspec": {
      "name": "python3",
      "display_name": "Python 3"
    },
    "language_info": {
      "name": "python"
    }
  },
  "cells": [
    {
      "cell_type": "code",
      "execution_count": null,
      "metadata": {
        "id": "KzTsizYpwsZf"
      },
      "outputs": [],
      "source": [
        "import yfinance as yf\n",
        "\n",
        "# Ticker lists for 10 major countries (Equity ETFs)\n",
        "us_tickers = [\"SPY\"]\n",
        "china_tickers = [\"MCHI\"]\n",
        "japan_tickers = [\"EWJ\"]\n",
        "uk_tickers = [\"EWU\"]\n",
        "germany_tickers = [\"EWG\"]\n",
        "canada_tickers = [\"EWC\"]\n",
        "india_tickers = [\"INDA\"]\n",
        "france_tickers = [\"EWQ\"]\n",
        "australia_tickers = [\"EWA\"]\n",
        "brazil_tickers = [\"EWZ\"]\n",
        "\n",
        "# Bond ETFs (popular selections)\n",
        "bond_tickers = [\"AGG\", \"BND\", \"TLT\", \"BNDX\", \"VCIT\", \"MUB\", \"VCSH\"]\n",
        "\n",
        "# Commodity ETFs (popular selections)\n",
        "commodity_tickers = [\"GLD\", \"SLV\", \"PDBC\", \"FTGC\", 'BNO', 'USO', 'UNG']\n",
        "\n",
        "# Combine all ticker lists into one for download\n",
        "all_stock_tickers = (\n",
        "    us_tickers +\n",
        "    china_tickers +\n",
        "    japan_tickers +\n",
        "    uk_tickers +\n",
        "    germany_tickers +\n",
        "    canada_tickers +\n",
        "    india_tickers +\n",
        "    france_tickers +\n",
        "    australia_tickers +\n",
        "    brazil_tickers\n",
        ")\n",
        "all_bond_tickers = bond_tickers\n",
        "all_commodity_tickers = commodity_tickers\n",
        "all_tickers = all_stock_tickers + all_bond_tickers + all_commodity_tickers\n",
        "\n",
        "# Function to download full historical data for each ticker\n",
        "def download_full_history(tickers):\n",
        "    # Download full history data for all tickers\n",
        "    data = yf.download(tickers, period=\"max\")  # Downloads full historical data\n",
        "    return data\n",
        "\n",
        "# Download full historical data for all tickers\n",
        "full_history_data = download_full_history(all_tickers)\n",
        "\n",
        "# Display data\n",
        "close_prices = full_history_data['Adj Close']\n",
        "close_prices.head()"
      ]
    }
  ]
}